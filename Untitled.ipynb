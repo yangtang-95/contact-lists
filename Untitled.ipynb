{
 "cells": [
  {
   "cell_type": "code",
   "execution_count": 61,
   "id": "415899ae-6f46-4118-a1fa-8bfe1e6dc47b",
   "metadata": {
    "scrolled": true
   },
   "outputs": [
    {
     "name": "stdout",
     "output_type": "stream",
     "text": [
      "                                Unique Emails\n",
      "0      nextlevelconsulting.elzaylaa@gmail.com\n",
      "1                  Next Level Consulting (AP)\n",
      "2               Next Level Consulting  (Emad)\n",
      "3                Next Level Consulting (Amir)\n",
      "4                 Next Level Consulting (Ali)\n",
      "5               Next Level Consulting (Ehsan)\n",
      "6              Next Level Consulting (Bassam)\n",
      "7            Next Level Consulting (Ghozzati)\n",
      "8               Next Level Consulting (Hamid)\n",
      "9                Next Level Consulting (Jane)\n",
      "10             Next Level Consulting (Hooman)\n",
      "11              Next Level Consulting (Leyli)\n",
      "12               Next Level Consulting (Mike)\n",
      "13            Next Level Consulting (Mohamad)\n",
      "14             Next Level Consulting (Ottawa)\n",
      "15              Next Level Consulting (Saeid)\n",
      "16        nextlevelconsulting.oball@gmail.com\n",
      "2            thenextlevelconsultant@gmail.com\n",
      "3                    arthurb@windowsville.com\n",
      "4                     daltonmorgan@google.com\n",
      "5                    andrew@mysmartcocoon.com\n",
      "6                            Preston Ferguson\n",
      "7                         info@kwenergyhs.com\n",
      "8                    sasha.wallach@riipen.com\n",
      "9     nextlevelconsulting.gharaibeh@gmail.com\n",
      "10                       aek.rsi647@gmail.com\n",
      "11          nextlevelconsulting.ali@gmail.com\n",
      "12                   365greenerhome@gmail.com\n",
      "13     nextlevelconsulting.ghozzati@gmail.com\n",
      "14                     abaeianhamid@gmail.com\n",
      "15  nextlevelconsulting.prendergast@gmail.com\n",
      "16      nextlevelconsulting.emtiazi@gmail.com\n",
      "17                greencanadahouses@gmail.com\n",
      "18       nextlevelconsulting.kolbuc@gmail.com\n",
      "19                                Dave Hachey\n",
      "20     nextlevelconsulting.safakish@gmail.com\n",
      "21       nextlevelconsulting.ottawa@gmail.com\n",
      "22                   akinspection22@gmail.com\n",
      "23    nextlevelconsulting.javanshir@gmail.com\n",
      "1                             Susanne Farrell\n",
      "2                                 Asher Leach\n",
      "3                   Anastasiia Artsishevskaia\n",
      "5                                Scott Wilson\n",
      "10                         Kw Office Internal\n",
      "15                           Alastair Larwill\n",
      "16                             ONhomeupgrades\n",
      "18                                      Ehsan\n",
      "19                       365 Greener home Inc\n",
      "20                         Ehsan (NORTH YORK)\n",
      "22    nextlevelconsulting.aburayash@gmail.com\n",
      "24                         Hamid (NORTH YORK)\n",
      "29                                      Leyli\n",
      "32                               Mike Manning\n"
     ]
    }
   ],
   "source": [
    "import pandas as pd\n",
    "\n",
    "# Load the CSV file\n",
    "file_path = 'HERE.csv'\n",
    "df = pd.read_csv(file_path,encoding = \"ISO-8859-1\")\n",
    "\n",
    "# Extract email addresses from the relevant columns\n",
    "email_columns = [\"Calendar\", \"Creator\", \"Organizer\"]\n",
    "unique_emails = pd.Series(dtype='str')\n",
    "\n",
    "for column in email_columns:\n",
    "    if column in df.columns:\n",
    "        unique_emails = pd.concat([unique_emails, pd.Series(df[column].dropna().unique())])\n",
    "\n",
    "# Drop duplicates\n",
    "unique_emails = unique_emails.drop_duplicates()\n",
    "\n",
    "# Converting to DataFrame\n",
    "unique_emails_df = pd.DataFrame(unique_emails, columns=[\"Unique Emails\"])\n",
    "\n",
    "# Display the DataFrame\n",
    "print(unique_emails_df)"
   ]
  },
  {
   "cell_type": "code",
   "execution_count": 62,
   "id": "de636807-49f6-428c-b2eb-a28f5f7e53bf",
   "metadata": {},
   "outputs": [
    {
     "name": "stdout",
     "output_type": "stream",
     "text": [
      "                              Guestlist\n",
      "0          jeffreybrownbrowns@gmail.com\n",
      "1                  leegancman@gmail.com\n",
      "2                    arz786@hotmail.com\n",
      "3                  stumulcahy@gmail.com\n",
      "4        christopher.jisaac@hotmail.com\n",
      "...                                 ...\n",
      "3655  nextlevelconsulting.ali@gmail.com\n",
      "3656           gary.chung.rmt@gmail.com\n",
      "3657         tanveernaila1991@gmail.com\n",
      "3658              jacobprasad@gmail.com\n",
      "3659               scr8on2000@yahoo.com\n",
      "\n",
      "[3660 rows x 1 columns]\n"
     ]
    }
   ],
   "source": [
    "email_list = []\n",
    "\n",
    "for guestlist in df['Guestlist'].dropna():  # Drop NaN values\n",
    "    if isinstance(guestlist, str):  # Ensure the entry is a string\n",
    "        emails = guestlist.split(',')\n",
    "        for email in emails:\n",
    "            cleaned_email = email.strip()\n",
    "            if cleaned_email:\n",
    "                email_list.append(cleaned_email)\n",
    "    else:\n",
    "        cleaned_email = str(guestlist).strip()\n",
    "        if cleaned_email:\n",
    "            email_list.append(cleaned_email)\n",
    "\n",
    "# Remove duplicates\n",
    "unique_emails = list(set(email_list))\n",
    "\n",
    "# Create a DataFrame with the unique emails\n",
    "guestlist_emails_df = pd.DataFrame(unique_emails, columns=[\"Guestlist\"])\n",
    "\n",
    "\n",
    "# Print the DataFrame to verify the results\n",
    "print(guestlist_emails_df)\n"
   ]
  },
  {
   "cell_type": "code",
   "execution_count": 63,
   "id": "f6107341-b60b-48c0-ac1c-cc227b721800",
   "metadata": {},
   "outputs": [
    {
     "name": "stdout",
     "output_type": "stream",
     "text": [
      "                           Guestlist\n",
      "0       jeffreybrownbrowns@gmail.com\n",
      "1               leegancman@gmail.com\n",
      "2                 arz786@hotmail.com\n",
      "3               stumulcahy@gmail.com\n",
      "4     christopher.jisaac@hotmail.com\n",
      "...                              ...\n",
      "3654              matoui@hotmail.com\n",
      "3656        gary.chung.rmt@gmail.com\n",
      "3657      tanveernaila1991@gmail.com\n",
      "3658           jacobprasad@gmail.com\n",
      "3659            scr8on2000@yahoo.com\n",
      "\n",
      "[3640 rows x 1 columns]\n"
     ]
    }
   ],
   "source": [
    "# Filter out non-email entries from unique_emails_df\n",
    "email_pattern = r'[a-zA-Z0-9._%+-]+@[a-zA-Z0-9.-]+\\.[a-zA-Z]{2,}'\n",
    "unique_emails = unique_emails_df[unique_emails_df[\"Unique Emails\"].str.contains(email_pattern, na=False)]\n",
    "\n",
    "# Convert the unique emails to a set for faster look-up\n",
    "unique_emails_set = set(unique_emails[\"Unique Emails\"])\n",
    "\n",
    "# Filter out the emails from guestlist_emails_df that are in unique_emails_set\n",
    "filtered_guestlist_emails_df = guestlist_emails_df[~guestlist_emails_df[\"Guestlist\"].isin(unique_emails_set)]\n",
    "\n",
    "# Display the filtered DataFrame\n",
    "print(filtered_guestlist_emails_df)"
   ]
  },
  {
   "cell_type": "code",
   "execution_count": 64,
   "id": "2e1a9e8e-46e1-490a-81b5-a61da8a5e286",
   "metadata": {},
   "outputs": [
    {
     "name": "stdout",
     "output_type": "stream",
     "text": [
      "                           Guestlist\n",
      "0       jeffreybrownbrowns@gmail.com\n",
      "1               leegancman@gmail.com\n",
      "2                 arz786@hotmail.com\n",
      "3               stumulcahy@gmail.com\n",
      "4     christopher.jisaac@hotmail.com\n",
      "...                              ...\n",
      "3654              matoui@hotmail.com\n",
      "3656        gary.chung.rmt@gmail.com\n",
      "3657      tanveernaila1991@gmail.com\n",
      "3658           jacobprasad@gmail.com\n",
      "3659            scr8on2000@yahoo.com\n",
      "\n",
      "[3635 rows x 1 columns]\n"
     ]
    },
    {
     "name": "stderr",
     "output_type": "stream",
     "text": [
      "C:\\Users\\tangn\\AppData\\Local\\Temp\\ipykernel_1540\\3062342413.py:4: SettingWithCopyWarning: \n",
      "A value is trying to be set on a copy of a slice from a DataFrame.\n",
      "Try using .loc[row_indexer,col_indexer] = value instead\n",
      "\n",
      "See the caveats in the documentation: https://pandas.pydata.org/pandas-docs/stable/user_guide/indexing.html#returning-a-view-versus-a-copy\n",
      "  filtered_guestlist_emails_df['Guestlist'] = filtered_guestlist_emails_df['Guestlist'].apply(lambda x: re.findall(email_pattern, x)[0] if re.findall(email_pattern, x) else '')\n"
     ]
    }
   ],
   "source": [
    "import re\n",
    "\n",
    "email_pattern = r'[a-zA-Z0-9._%+-]+@[a-zA-Z0-9.-]+\\.[a-zA-Z]{2,}'\n",
    "filtered_guestlist_emails_df['Guestlist'] = filtered_guestlist_emails_df['Guestlist'].apply(lambda x: re.findall(email_pattern, x)[0] if re.findall(email_pattern, x) else '')\n",
    "\n",
    "# Filter out any empty rows resulting from the above extraction\n",
    "filtered_guestlist_emails_df = filtered_guestlist_emails_df[filtered_guestlist_emails_df['Guestlist'] != '']\n",
    "\n",
    "# Display the cleaned DataFrame\n",
    "print(filtered_guestlist_emails_df)"
   ]
  },
  {
   "cell_type": "code",
   "execution_count": 69,
   "id": "d999fc05-0e65-4251-bad8-42d314179aea",
   "metadata": {},
   "outputs": [
    {
     "name": "stdout",
     "output_type": "stream",
     "text": [
      "                           Guestlist\n",
      "0       jeffreybrownbrowns@gmail.com\n",
      "1               leegancman@gmail.com\n",
      "2                 arz786@hotmail.com\n",
      "3               stumulcahy@gmail.com\n",
      "4     christopher.jisaac@hotmail.com\n",
      "...                              ...\n",
      "3654              matoui@hotmail.com\n",
      "3656        gary.chung.rmt@gmail.com\n",
      "3657      tanveernaila1991@gmail.com\n",
      "3658           jacobprasad@gmail.com\n",
      "3659            scr8on2000@yahoo.com\n",
      "\n",
      "[3624 rows x 1 columns]\n"
     ]
    }
   ],
   "source": [
    "# Convert the unique emails to a set for faster look-up\n",
    "unique_emails_set = set(unique_emails[\"Unique Emails\"])\n",
    "\n",
    "# Filter out the emails from filtered_guestlist_emails_df that are in unique_emails_set\n",
    "filtered_guestlist_emails_df = filtered_guestlist_emails_df[~filtered_guestlist_emails_df[\"Guestlist\"].isin(unique_emails_set)]\n",
    "\n",
    "filtered_guestlist_emails_df = filtered_guestlist_emails_df[~filtered_guestlist_emails_df['Guestlist'].str.contains(\"nextlevelconsulting\", case=False, na=False)]\n",
    "\n",
    "# Display the cleaned DataFrame\n",
    "print(filtered_guestlist_emails_df)"
   ]
  },
  {
   "cell_type": "code",
   "execution_count": 71,
   "id": "4140dbb7-e405-459e-928b-8ff36ae949b1",
   "metadata": {},
   "outputs": [],
   "source": [
    "output_file_path = 'filtered_guestlist_emails.csv'  # Update this path to your desired file path\n",
    "filtered_guestlist_emails_df.to_csv(output_file_path, index=False)"
   ]
  },
  {
   "cell_type": "code",
   "execution_count": null,
   "id": "cdeb1802-55e9-4a61-8d1c-b00f5d2b574e",
   "metadata": {},
   "outputs": [],
   "source": []
  },
  {
   "cell_type": "code",
   "execution_count": null,
   "id": "ca95f790-59e8-41f4-b019-b80ffb8deceb",
   "metadata": {},
   "outputs": [],
   "source": []
  }
 ],
 "metadata": {
  "kernelspec": {
   "display_name": "Python 3 (ipykernel)",
   "language": "python",
   "name": "python3"
  },
  "language_info": {
   "codemirror_mode": {
    "name": "ipython",
    "version": 3
   },
   "file_extension": ".py",
   "mimetype": "text/x-python",
   "name": "python",
   "nbconvert_exporter": "python",
   "pygments_lexer": "ipython3",
   "version": "3.11.7"
  }
 },
 "nbformat": 4,
 "nbformat_minor": 5
}
