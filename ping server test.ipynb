{
 "cells": [
  {
   "cell_type": "code",
   "execution_count": 1,
   "id": "f4e48b05-c6c8-444a-88a6-95ccb301b6c2",
   "metadata": {},
   "outputs": [],
   "source": [
    "import re\n",
    "import smtplib\n",
    "import logging\n",
    "import socket\n",
    "import smtplib\n",
    "from email_validator import validate_email, EmailNotValidError\n",
    "import dns.resolver"
   ]
  },
  {
   "cell_type": "code",
   "execution_count": null,
   "id": "252f96d2-cace-418d-85b9-f6341b1c5f14",
   "metadata": {},
   "outputs": [],
   "source": [
    "#from validate_email import validate_email\n",
    "#from validate_email_address import validate_email\n",
    "#from email_validator import validate_email"
   ]
  },
  {
   "cell_type": "code",
   "execution_count": null,
   "id": "fb75b5c2-6fa1-425e-98c5-88019499faec",
   "metadata": {},
   "outputs": [],
   "source": [
    "\n",
    "#isvalid=validate_email('tang@thenextlevelconsulting.ca',check_deliverability=True)\n",
    "#print(isvalid)"
   ]
  },
  {
   "cell_type": "code",
   "execution_count": 1,
   "id": "2821fffd-5241-4515-b7c6-d983982cd076",
   "metadata": {},
   "outputs": [
    {
     "name": "stdout",
     "output_type": "stream",
     "text": [
      "Checking info@thenextlevelconsulting.ca\n",
      "Error: 404 Client Error: Not Found for url: http://localhost:3000/v0/check\n",
      "Failed to get a valid response.\n",
      "Checking office@thenextlevelconsulting.ca\n",
      "Error: 404 Client Error: Not Found for url: http://localhost:3000/v0/check\n",
      "Failed to get a valid response.\n",
      "Checking contact@thenextlevelconsulting.ca\n",
      "Error: 404 Client Error: Not Found for url: http://localhost:3000/v0/check\n",
      "Failed to get a valid response.\n",
      "Checking support@thenextlevelconsulting.ca\n",
      "Error: 404 Client Error: Not Found for url: http://localhost:3000/v0/check\n",
      "Failed to get a valid response.\n",
      "Checking admin@thenextlevelconsulting.ca\n",
      "Error: 404 Client Error: Not Found for url: http://localhost:3000/v0/check\n",
      "Failed to get a valid response.\n",
      "Checking hello@thenextlevelconsulting.ca\n",
      "Error: 404 Client Error: Not Found for url: http://localhost:3000/v0/check\n",
      "Failed to get a valid response.\n",
      "Checking sales@thenextlevelconsulting.ca\n",
      "Error: 404 Client Error: Not Found for url: http://localhost:3000/v0/check\n",
      "Failed to get a valid response.\n",
      "Checking general@thenextlevelconsulting.ca\n",
      "Error: 404 Client Error: Not Found for url: http://localhost:3000/v0/check\n",
      "Failed to get a valid response.\n",
      "Checking mail@thenextlevelconsulting.ca\n",
      "Error: 404 Client Error: Not Found for url: http://localhost:3000/v0/check\n",
      "Failed to get a valid response.\n",
      "Checking service@thenextlevelconsulting.ca\n",
      "Error: 404 Client Error: Not Found for url: http://localhost:3000/v0/check\n",
      "Failed to get a valid response.\n",
      "Checking enquiries@thenextlevelconsulting.ca\n",
      "Error: 404 Client Error: Not Found for url: http://localhost:3000/v0/check\n",
      "Failed to get a valid response.\n",
      "Checking reception@thenextlevelconsulting.ca\n",
      "Error: 404 Client Error: Not Found for url: http://localhost:3000/v0/check\n",
      "Failed to get a valid response.\n"
     ]
    }
   ],
   "source": [
    "import requests\n",
    "import json\n",
    "\n",
    "def check_email(email):\n",
    "    url = \"http://localhost:3000/v0/check\"\n",
    "    payload = json.dumps({\"to_email\": email})\n",
    "    headers = {\"Content-Type\": \"application/json\"}\n",
    "    \n",
    "    try:\n",
    "        response = requests.post(url, data=payload, headers=headers)\n",
    "        response.raise_for_status()\n",
    "        result = response.json()\n",
    "        return result\n",
    "    except requests.exceptions.RequestException as e:\n",
    "        print(f\"Error: {e}\")\n",
    "        return None\n",
    "\n",
    "# Test the function with a known domain\n",
    "test_domain = \"thenextlevelconsulting.ca\"\n",
    "email_prefixes = [\"info\", \"office\", \"contact\", \"support\", \"admin\", \"hello\", \"sales\", \"general\", \"mail\", \"service\", \"enquiries\", \"reception\"]\n",
    "\n",
    "for prefix in email_prefixes:\n",
    "    email = f\"{prefix}@{test_domain}\"\n",
    "    print(f\"Checking {email}\")\n",
    "    result = check_email(email)\n",
    "    if result:\n",
    "        status = result.get(\"status\", \"unknown\")\n",
    "        reason = result.get(\"reason\", \"unknown\")\n",
    "        print(f\"Status: {status}, Reason: {reason}\")\n",
    "    else:\n",
    "        print(\"Failed to get a valid response.\")\n"
   ]
  },
  {
   "cell_type": "code",
   "execution_count": 3,
   "id": "6b61a93d-0151-4f5b-b028-b8bbc026eeb4",
   "metadata": {},
   "outputs": [
    {
     "name": "stdout",
     "output_type": "stream",
     "text": [
      "MX Record: thenextlevelconsulting-ca.mail.protection.outlook.com.\n",
      "Domain thenextlevelconsulting.ca has MX records.\n"
     ]
    }
   ],
   "source": [
    "import dns.resolver\n",
    "\n",
    "def check_mx_records(domain):\n",
    "    try:\n",
    "        mx_records = dns.resolver.resolve(domain, 'MX')\n",
    "        for mx in mx_records:\n",
    "            print(f\"MX Record: {mx.exchange}\")\n",
    "        return True\n",
    "    except dns.resolver.NoAnswer:\n",
    "        print(\"No MX record found.\")\n",
    "        return False\n",
    "    except dns.resolver.NXDOMAIN:\n",
    "        print(\"Domain does not exist.\")\n",
    "        return False\n",
    "    except Exception as e:\n",
    "        print(f\"An error occurred: {e}\")\n",
    "        return False\n",
    "\n",
    "# Test the function\n",
    "domain = \"thenextlevelconsulting.ca\"\n",
    "if check_mx_records(domain):\n",
    "    print(f\"Domain {domain} has MX records.\")\n",
    "else:\n",
    "    print(f\"Domain {domain} does not have MX records.\")\n"
   ]
  },
  {
   "cell_type": "code",
   "execution_count": null,
   "id": "599b5e51-b566-4098-a5c5-d7eca2308ff4",
   "metadata": {},
   "outputs": [],
   "source": []
  }
 ],
 "metadata": {
  "kernelspec": {
   "display_name": "Python 3 (ipykernel)",
   "language": "python",
   "name": "python3"
  },
  "language_info": {
   "codemirror_mode": {
    "name": "ipython",
    "version": 3
   },
   "file_extension": ".py",
   "mimetype": "text/x-python",
   "name": "python",
   "nbconvert_exporter": "python",
   "pygments_lexer": "ipython3",
   "version": "3.11.7"
  }
 },
 "nbformat": 4,
 "nbformat_minor": 5
}
